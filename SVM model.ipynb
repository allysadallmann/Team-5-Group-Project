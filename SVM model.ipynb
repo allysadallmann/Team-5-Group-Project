{
 "cells": [
  {
   "cell_type": "code",
   "execution_count": 5,
   "metadata": {},
   "outputs": [],
   "source": [
    "import numpy as np\n",
    "import matplotlib.pylab as plt\n",
    "import pandas as pd\n",
    "import sklearn\n",
    "from sklearn.model_selection import train_test_split\n",
    "from sklearn import metrics\n",
    "from sklearn.metrics import accuracy_score\n",
    "from sklearn.metrics import recall_score\n",
    "from sklearn.model_selection import cross_val_score\n",
    "from sklearn.svm import SVC\n",
    "from sklearn.metrics import classification_report"
   ]
  },
  {
   "cell_type": "code",
   "execution_count": 6,
   "metadata": {},
   "outputs": [
    {
     "name": "stdout",
     "output_type": "stream",
     "text": [
      "              precision    recall  f1-score   support\n",
      "\n",
      "           0       0.97      1.00      0.99      2412\n",
      "           1       0.90      0.22      0.35        88\n",
      "\n",
      "    accuracy                           0.97      2500\n",
      "   macro avg       0.94      0.61      0.67      2500\n",
      "weighted avg       0.97      0.97      0.96      2500\n",
      "\n"
     ]
    }
   ],
   "source": [
    "df = pd.read_csv('clean_data_scaled.csv')\n",
    "X = df[[\"Type\",\"Air.temperature\",\"Process.temperature\",\"Rotational.speed\", \"Torque\", \"Tool.wear\"]]\n",
    "y = df[\"Machine.failure\"]\n",
    "X_train, X_test, y_train, y_test = train_test_split(X, y, random_state=0, shuffle=True)\n",
    "\n",
    "\n",
    "svm_model = SVC()\n",
    "svm_model.fit(X_train, y_train)\n",
    "y_pred_svm = svm_model.predict(X_test)\n",
    "svm_rec_scores = cross_val_score(svm_model, X, y, cv =5, scoring=\"recall\")\n",
    "svm_acc_scores = cross_val_score(svm_model, X, y, cv =5, scoring=\"accuracy\")\n",
    "\n",
    "print(classification_report(y_test, y_pred_svm))\n",
    "\n",
    "# print('SVM Model accuracy: ',np.mean(svm_acc_scores))\n",
    "# print('SVM Model recall: ',np.mean(svm_rec_scores))"
   ]
  },
  {
   "cell_type": "code",
   "execution_count": 7,
   "metadata": {},
   "outputs": [
    {
     "name": "stdout",
     "output_type": "stream",
     "text": [
      "[[2410    2]\n",
      " [  69   19]]\n"
     ]
    },
    {
     "data": {
      "image/png": "[encoded data removed]",
      "text/plain": [
       "<Figure size 432x288 with 1 Axes>"
      ]
     },
     "metadata": {
      "needs_background": "light"
     },
     "output_type": "display_data"
    }
   ],
   "source": [
    "disp = metrics.plot_confusion_matrix(svm_model, X_test, y_test, colorbar=False)\n",
    "\n",
    "plt.title(\"Confusion Matrix for SVM\")\n",
    "\n",
    "print(disp.confusion_matrix)\n"
   ]
  },
  {
   "cell_type": "code",
   "execution_count": null,
   "metadata": {},
   "outputs": [],
   "source": []
  }
 ],
 "metadata": {
  "kernelspec": {
   "display_name": "Python 3",
   "language": "python",
   "name": "python3"
  },
  "language_info": {
   "codemirror_mode": {
    "name": "ipython",
    "version": 3
   },
   "file_extension": ".py",
   "mimetype": "text/x-python",
   "name": "python",
   "nbconvert_exporter": "python",
   "pygments_lexer": "ipython3",
   "version": "3.6.9"
  }
 },
 "nbformat": 4,
 "nbformat_minor": 4
}
