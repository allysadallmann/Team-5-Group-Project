{
 "cells": [
  {
   "cell_type": "code",
   "execution_count": 3,
   "metadata": {},
   "outputs": [],
   "source": [
    "import numpy as np\n",
    "import matplotlib.pylab as plt\n",
    "import pandas as pd"
   ]
  },
  {
   "cell_type": "code",
   "execution_count": 6,
   "metadata": {},
   "outputs": [
    {
     "data": {
      "text/html": [
       "<div>\n",
       "<style scoped>\n",
       "    .dataframe tbody tr th:only-of-type {\n",
       "        vertical-align: middle;\n",
       "    }\n",
       "\n",
       "    .dataframe tbody tr th {\n",
       "        vertical-align: top;\n",
       "    }\n",
       "\n",
       "    .dataframe thead th {\n",
       "        text-align: right;\n",
       "    }\n",
       "</style>\n",
       "<table border=\"1\" class=\"dataframe\">\n",
       "  <thead>\n",
       "    <tr style=\"text-align: right;\">\n",
       "      <th></th>\n",
       "      <th>UDI</th>\n",
       "      <th>Product_ID</th>\n",
       "      <th>Type</th>\n",
       "      <th>Air_temperature</th>\n",
       "      <th>Process_temperature</th>\n",
       "      <th>Rotational_speed</th>\n",
       "      <th>Torque</th>\n",
       "      <th>Tool wear</th>\n",
       "      <th>Machine failure</th>\n",
       "      <th>TWF</th>\n",
       "      <th>HDF</th>\n",
       "      <th>PWF</th>\n",
       "      <th>OSF</th>\n",
       "      <th>RNF</th>\n",
       "    </tr>\n",
       "  </thead>\n",
       "  <tbody>\n",
       "    <tr>\n",
       "      <th>0</th>\n",
       "      <td>1</td>\n",
       "      <td>M14860</td>\n",
       "      <td>M</td>\n",
       "      <td>298.1</td>\n",
       "      <td>308.6</td>\n",
       "      <td>1551</td>\n",
       "      <td>42.8</td>\n",
       "      <td>0</td>\n",
       "      <td>0</td>\n",
       "      <td>0</td>\n",
       "      <td>0</td>\n",
       "      <td>0</td>\n",
       "      <td>0</td>\n",
       "      <td>0</td>\n",
       "    </tr>\n",
       "    <tr>\n",
       "      <th>1</th>\n",
       "      <td>2</td>\n",
       "      <td>L47181</td>\n",
       "      <td>L</td>\n",
       "      <td>298.2</td>\n",
       "      <td>308.7</td>\n",
       "      <td>1408</td>\n",
       "      <td>46.3</td>\n",
       "      <td>3</td>\n",
       "      <td>0</td>\n",
       "      <td>0</td>\n",
       "      <td>0</td>\n",
       "      <td>0</td>\n",
       "      <td>0</td>\n",
       "      <td>0</td>\n",
       "    </tr>\n",
       "    <tr>\n",
       "      <th>2</th>\n",
       "      <td>3</td>\n",
       "      <td>L47182</td>\n",
       "      <td>L</td>\n",
       "      <td>298.1</td>\n",
       "      <td>308.5</td>\n",
       "      <td>1498</td>\n",
       "      <td>49.4</td>\n",
       "      <td>5</td>\n",
       "      <td>0</td>\n",
       "      <td>0</td>\n",
       "      <td>0</td>\n",
       "      <td>0</td>\n",
       "      <td>0</td>\n",
       "      <td>0</td>\n",
       "    </tr>\n",
       "    <tr>\n",
       "      <th>3</th>\n",
       "      <td>4</td>\n",
       "      <td>L47183</td>\n",
       "      <td>L</td>\n",
       "      <td>298.2</td>\n",
       "      <td>308.6</td>\n",
       "      <td>1433</td>\n",
       "      <td>39.5</td>\n",
       "      <td>7</td>\n",
       "      <td>0</td>\n",
       "      <td>0</td>\n",
       "      <td>0</td>\n",
       "      <td>0</td>\n",
       "      <td>0</td>\n",
       "      <td>0</td>\n",
       "    </tr>\n",
       "    <tr>\n",
       "      <th>4</th>\n",
       "      <td>5</td>\n",
       "      <td>L47184</td>\n",
       "      <td>L</td>\n",
       "      <td>298.2</td>\n",
       "      <td>308.7</td>\n",
       "      <td>1408</td>\n",
       "      <td>40.0</td>\n",
       "      <td>9</td>\n",
       "      <td>0</td>\n",
       "      <td>0</td>\n",
       "      <td>0</td>\n",
       "      <td>0</td>\n",
       "      <td>0</td>\n",
       "      <td>0</td>\n",
       "    </tr>\n",
       "  </tbody>\n",
       "</table>\n",
       "</div>"
      ],
      "text/plain": [
       "   UDI Product_ID Type  Air_temperature  Process_temperature  \\\n",
       "0    1     M14860    M            298.1                308.6   \n",
       "1    2     L47181    L            298.2                308.7   \n",
       "2    3     L47182    L            298.1                308.5   \n",
       "3    4     L47183    L            298.2                308.6   \n",
       "4    5     L47184    L            298.2                308.7   \n",
       "\n",
       "   Rotational_speed  Torque  Tool wear  Machine failure  TWF  HDF  PWF  OSF  \\\n",
       "0              1551    42.8          0                0    0    0    0    0   \n",
       "1              1408    46.3          3                0    0    0    0    0   \n",
       "2              1498    49.4          5                0    0    0    0    0   \n",
       "3              1433    39.5          7                0    0    0    0    0   \n",
       "4              1408    40.0          9                0    0    0    0    0   \n",
       "\n",
       "   RNF  \n",
       "0    0  \n",
       "1    0  \n",
       "2    0  \n",
       "3    0  \n",
       "4    0  "
      ]
     },
     "execution_count": 6,
     "metadata": {},
     "output_type": "execute_result"
    }
   ],
   "source": [
    "df = pd.read_csv('~/DataScience/Project/raw_df.csv')\n",
    "df.head()"
   ]
  },
  {
   "cell_type": "code",
   "execution_count": 27,
   "metadata": {},
   "outputs": [],
   "source": [
    "from sklearn.model_selection import train_test_split\n",
    "from sklearn import metrics\n",
    "import sklearn"
   ]
  },
  {
   "cell_type": "code",
   "execution_count": 47,
   "metadata": {},
   "outputs": [],
   "source": [
    "y = df['HDF']\n",
    "\n",
    "X = df[['Air_temperature', 'Rotational_speed']]\n",
    "\n",
    "X_train, X_test, y_train, y_test = train_test_split(X, y, random_state=0, shuffle=True)"
   ]
  },
  {
   "cell_type": "code",
   "execution_count": 73,
   "metadata": {},
   "outputs": [
    {
     "data": {
      "text/plain": [
       "RandomForestClassifier(n_estimators=500, random_state=23)"
      ]
     },
     "execution_count": 73,
     "metadata": {},
     "output_type": "execute_result"
    }
   ],
   "source": [
    "from sklearn.svm import SVC\n",
    "from sklearn.ensemble import RandomForestClassifier\n",
    "\n",
    "RFC = RandomForestClassifier(n_estimators=500, random_state=23)\n",
    "RFC.fit(X_train, y_train.values.ravel())"
   ]
  },
  {
   "cell_type": "code",
   "execution_count": 74,
   "metadata": {},
   "outputs": [
    {
     "name": "stdout",
     "output_type": "stream",
     "text": [
      "Accuracy: 0.9884\n"
     ]
    }
   ],
   "source": [
    "from sklearn.metrics import accuracy_score\n",
    "\n",
    "y_predict_RFC = RFC.predict(X_test)\n",
    "\n",
    "#compute accuracy and print it\n",
    "print(\"Accuracy:\", metrics.accuracy_score(y_test, y_predict_RFC))"
   ]
  },
  {
   "cell_type": "code",
   "execution_count": 75,
   "metadata": {},
   "outputs": [
    {
     "name": "stdout",
     "output_type": "stream",
     "text": [
      "[[2460   13]\n",
      " [  16   11]]\n"
     ]
    },
    {
     "data": {
      "image/png": "[encoded data removed]",
      "text/plain": [
       "<Figure size 432x288 with 1 Axes>"
      ]
     },
     "metadata": {
      "needs_background": "light"
     },
     "output_type": "display_data"
    }
   ],
   "source": [
    "#RFC Confusion Matrix\n",
    "\n",
    "disp = metrics.plot_confusion_matrix(RFC, X_test, y_test, colorbar=False)\n",
    "\n",
    "plt.title(\"Confusion Matrix for RFC\")\n",
    "\n",
    "print(disp.confusion_matrix)"
   ]
  },
  {
   "cell_type": "code",
   "execution_count": 77,
   "metadata": {},
   "outputs": [
    {
     "name": "stdout",
     "output_type": "stream",
     "text": [
      "Accuracy: -0.988 (0.003)\n",
      "Predicted Class: 0\n"
     ]
    }
   ],
   "source": [
    "from sklearn.model_selection import cross_val_score\n",
    "from sklearn.model_selection import RepeatedStratifiedKFold\n",
    "from numpy import mean\n",
    "from numpy import std\n",
    "\n",
    "cv = RepeatedStratifiedKFold(n_splits=10, n_repeats=3, random_state=1)\n",
    "\n",
    "scores = -cross_val_score(RFC, X, y, scoring='accuracy', cv=cv)\n",
    "print('Accuracy: %.3f (%.3f)' % (mean(scores), std(scores)))\n",
    "\n",
    "# fit the model on the whole dataset\n",
    "RFC.fit(X, y)\n",
    "\n",
    "# make a single prediction\n",
    "row = [[-8.52381793,5.24451077]]\n",
    "yhat = RFC.predict(row)\n",
    "print('Predicted Class: %d' % yhat[0])"
   ]
  },
  {
   "cell_type": "code",
   "execution_count": 87,
   "metadata": {},
   "outputs": [
    {
     "name": "stdout",
     "output_type": "stream",
     "text": [
      "Requirement already satisfied: shap in /opt/jupyterhub/pyvenv/lib/python3.6/site-packages (0.40.0)\n",
      "Requirement already satisfied: packaging>20.9 in /opt/jupyterhub/pyvenv/lib/python3.6/site-packages (from shap) (21.3)\n",
      "Requirement already satisfied: numba in /opt/jupyterhub/pyvenv/lib/python3.6/site-packages (from shap) (0.53.1)\n",
      "Requirement already satisfied: slicer==0.0.7 in /opt/jupyterhub/pyvenv/lib/python3.6/site-packages (from shap) (0.0.7)\n",
      "Requirement already satisfied: tqdm>4.25.0 in /opt/jupyterhub/pyvenv/lib/python3.6/site-packages (from shap) (4.62.3)\n",
      "Requirement already satisfied: cloudpickle in /opt/jupyterhub/pyvenv/lib/python3.6/site-packages (from shap) (2.2.0)\n",
      "Requirement already satisfied: scikit-learn in /opt/jupyterhub/pyvenv/lib/python3.6/site-packages (from shap) (0.24.2)\n",
      "Requirement already satisfied: pandas in /opt/jupyterhub/pyvenv/lib/python3.6/site-packages (from shap) (1.1.5)\n",
      "Requirement already satisfied: scipy in /opt/jupyterhub/pyvenv/lib/python3.6/site-packages (from shap) (1.4.1)\n",
      "Requirement already satisfied: numpy in /opt/jupyterhub/pyvenv/lib/python3.6/site-packages (from shap) (1.18.5)\n",
      "Requirement already satisfied: pyparsing!=3.0.5,>=2.0.2 in /opt/jupyterhub/pyvenv/lib/python3.6/site-packages (from packaging>20.9->shap) (2.4.7)\n",
      "Requirement already satisfied: llvmlite<0.37,>=0.36.0rc1 in /opt/jupyterhub/pyvenv/lib/python3.6/site-packages (from numba->shap) (0.36.0)\n",
      "Requirement already satisfied: setuptools in /opt/jupyterhub/pyvenv/lib/python3.6/site-packages (from numba->shap) (53.1.0)\n",
      "Requirement already satisfied: threadpoolctl>=2.0.0 in /opt/jupyterhub/pyvenv/lib/python3.6/site-packages (from scikit-learn->shap) (3.0.0)\n",
      "Requirement already satisfied: joblib>=0.11 in /opt/jupyterhub/pyvenv/lib/python3.6/site-packages (from scikit-learn->shap) (1.1.0)\n",
      "Requirement already satisfied: python-dateutil>=2.7.3 in /opt/jupyterhub/pyvenv/lib/python3.6/site-packages (from pandas->shap) (2.8.1)\n",
      "Requirement already satisfied: pytz>=2017.2 in /opt/jupyterhub/pyvenv/lib/python3.6/site-packages (from pandas->shap) (2020.1)\n",
      "Requirement already satisfied: six>=1.5 in /opt/jupyterhub/pyvenv/lib/python3.6/site-packages (from python-dateutil>=2.7.3->pandas->shap) (1.15.0)\n",
      "\u001b[33mYou are using pip version 19.0, however version 21.3.1 is available.\n",
      "You should consider upgrading via the 'pip install --upgrade pip' command.\u001b[0m\n"
     ]
    },
    {
     "data": {
      "image/png": "[encoded data removed]",
      "text/plain": [
       "<Figure size 576x223.2 with 1 Axes>"
      ]
     },
     "metadata": {
      "needs_background": "light"
     },
     "output_type": "display_data"
    }
   ],
   "source": [
    "#SHAP Analysis\n",
    "\n",
    "!pip install shap\n",
    "import shap\n",
    "\n",
    "y = df['Machine failure']\n",
    "\n",
    "X = df[['Air_temperature', 'Rotational_speed', 'Torque', \"Tool wear\"]]\n",
    "\n",
    "clf = RandomForestClassifier(n_estimators=500, random_state=23)\n",
    "clf.fit(X, y)\n",
    "\n",
    "explainer = shap.Explainer(clf)\n",
    "shap_values = explainer.shap_values(X[::200])\n",
    "shap.summary_plot(shap_values, X[::200])"
   ]
  },
  {
   "cell_type": "code",
   "execution_count": 84,
   "metadata": {},
   "outputs": [
    {
     "name": "stdout",
     "output_type": "stream",
     "text": [
      "True Class (if 1, Machine Failure, othewise No Machine Failure): 0\n",
      "Probability that this data point belong to class 0 = 1.00\n",
      "Base Probability for class 0 = 0.97\n"
     ]
    },
    {
     "data": {
      "image/png": "[encoded data removed]",
      "text/plain": [
       "<Figure size 1440x216 with 1 Axes>"
      ]
     },
     "metadata": {
      "needs_background": "light"
     },
     "output_type": "display_data"
    }
   ],
   "source": [
    "object_i = 33\n",
    "class_object_i = int(y[::200].iloc[object_i])\n",
    "print('True Class (if 1, Machine Failure, othewise No Machine Failure):', class_object_i)\n",
    "print('Probability that this data point belong to class 0 = %0.2f'%(explainer.expected_value[0] + sum(shap_values[0][object_i,:])))\n",
    "print('Base Probability for class 0 = %0.2f'%(explainer.expected_value[0]))\n",
    "\n",
    "shap.force_plot(explainer.expected_value[0], \n",
    "                shap_values[0][object_i,:], \n",
    "                X.iloc[object_i,:], \n",
    "                matplotlib=True)"
   ]
  },
  {
   "cell_type": "code",
   "execution_count": 88,
   "metadata": {},
   "outputs": [
    {
     "ename": "SyntaxError",
     "evalue": "invalid syntax (<ipython-input-88-7d507f6b9068>, line 1)",
     "output_type": "error",
     "traceback": [
      "\u001b[0;36m  File \u001b[0;32m\"<ipython-input-88-7d507f6b9068>\"\u001b[0;36m, line \u001b[0;32m1\u001b[0m\n\u001b[0;31m    git init\u001b[0m\n\u001b[0m           ^\u001b[0m\n\u001b[0;31mSyntaxError\u001b[0m\u001b[0;31m:\u001b[0m invalid syntax\n"
     ]
    }
   ],
   "source": [
    "git init\n",
    "git add README.md\n",
    "git add RandomForestClassificatoin.ipynb\n",
    "git commit -m \"notebook first commit\" \n",
    "5. git remote add origin https://github.com/allysadallmann/Team-5-Group-Project\n",
    "6. git push -u origin master "
   ]
  },
  {
   "cell_type": "code",
   "execution_count": 89,
   "metadata": {},
   "outputs": [
    {
     "name": "stdout",
     "output_type": "stream",
     "text": [
      "Collecting git+git://github.com/Expt-David/NumSchrodingerEq.git\n",
      "  Cloning git://github.com/Expt-David/NumSchrodingerEq.git to /tmp/pip-req-build-78en2b38\n",
      "fatal: unable to connect to github.com:\n",
      "github.com[0: 140.82.114.3]: errno=Connection timed out\n",
      "\n",
      "\u001b[31mCommand \"git clone -q git://github.com/Expt-David/NumSchrodingerEq.git /tmp/pip-req-build-78en2b38\" failed with error code 128 in None\u001b[0m\n",
      "\u001b[33mYou are using pip version 19.0, however version 21.3.1 is available.\n",
      "You should consider upgrading via the 'pip install --upgrade pip' command.\u001b[0m\n"
     ]
    }
   ],
   "source": [
    "!pip install git+git://github.com/Expt-David/NumSchrodingerEq.git"
   ]
  }
 ],
 "metadata": {
  "kernelspec": {
   "display_name": "Python 3",
   "language": "python",
   "name": "python3"
  },
  "language_info": {
   "codemirror_mode": {
    "name": "ipython",
    "version": 3
   },
   "file_extension": ".py",
   "mimetype": "text/x-python",
   "name": "python",
   "nbconvert_exporter": "python",
   "pygments_lexer": "ipython3",
   "version": "3.6.9"
  }
 },
 "nbformat": 4,
 "nbformat_minor": 4
}
