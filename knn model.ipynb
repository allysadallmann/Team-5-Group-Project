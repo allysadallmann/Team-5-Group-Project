{
 "cells": [
  {
   "cell_type": "code",
   "execution_count": 152,
   "metadata": {},
   "outputs": [],
   "source": [
    "from scipy.stats import chi2_contingency\n",
    "from sklearn.model_selection import train_test_split\n",
    "from sklearn.neighbors import KNeighborsClassifier\n",
    "from sklearn.metrics import classification_report\n",
    "from sklearn.metrics import plot_confusion_matrix\n",
    "from sklearn.model_selection import cross_val_score\n",
    "from sklearn.model_selection import GridSearchCV\n",
    "import pandas as pd\n",
    "import numpy as np\n",
    "import seaborn as sns\n",
    "import matplotlib.pyplot as plt\n",
    "%matplotlib inline\n",
    "plt.rcParams['figure.figsize'] = [10,10]\n"
   ]
  },
  {
   "cell_type": "code",
   "execution_count": 153,
   "metadata": {},
   "outputs": [
    {
     "data": {
      "text/html": [
       "<div>\n",
       "<style scoped>\n",
       "    .dataframe tbody tr th:only-of-type {\n",
       "        vertical-align: middle;\n",
       "    }\n",
       "\n",
       "    .dataframe tbody tr th {\n",
       "        vertical-align: top;\n",
       "    }\n",
       "\n",
       "    .dataframe thead th {\n",
       "        text-align: right;\n",
       "    }\n",
       "</style>\n",
       "<table border=\"1\" class=\"dataframe\">\n",
       "  <thead>\n",
       "    <tr style=\"text-align: right;\">\n",
       "      <th></th>\n",
       "      <th>UDI</th>\n",
       "      <th>Type</th>\n",
       "      <th>Air.temperature</th>\n",
       "      <th>Process.temperature</th>\n",
       "      <th>Rotational.speed</th>\n",
       "      <th>Torque</th>\n",
       "      <th>Tool.wear</th>\n",
       "      <th>Machine.failure</th>\n",
       "    </tr>\n",
       "  </thead>\n",
       "  <tbody>\n",
       "    <tr>\n",
       "      <th>0</th>\n",
       "      <td>1</td>\n",
       "      <td>2</td>\n",
       "      <td>-0.952342</td>\n",
       "      <td>-0.947313</td>\n",
       "      <td>0.068182</td>\n",
       "      <td>0.282186</td>\n",
       "      <td>-1.695899</td>\n",
       "      <td>0</td>\n",
       "    </tr>\n",
       "    <tr>\n",
       "      <th>1</th>\n",
       "      <td>2</td>\n",
       "      <td>1</td>\n",
       "      <td>-0.902348</td>\n",
       "      <td>-0.879915</td>\n",
       "      <td>-0.729435</td>\n",
       "      <td>0.633276</td>\n",
       "      <td>-1.648769</td>\n",
       "      <td>0</td>\n",
       "    </tr>\n",
       "    <tr>\n",
       "      <th>2</th>\n",
       "      <td>3</td>\n",
       "      <td>1</td>\n",
       "      <td>-0.952342</td>\n",
       "      <td>-1.014710</td>\n",
       "      <td>-0.227438</td>\n",
       "      <td>0.944242</td>\n",
       "      <td>-1.617349</td>\n",
       "      <td>0</td>\n",
       "    </tr>\n",
       "    <tr>\n",
       "      <th>3</th>\n",
       "      <td>4</td>\n",
       "      <td>1</td>\n",
       "      <td>-0.902348</td>\n",
       "      <td>-0.947313</td>\n",
       "      <td>-0.589992</td>\n",
       "      <td>-0.048843</td>\n",
       "      <td>-1.585930</td>\n",
       "      <td>0</td>\n",
       "    </tr>\n",
       "    <tr>\n",
       "      <th>4</th>\n",
       "      <td>5</td>\n",
       "      <td>1</td>\n",
       "      <td>-0.902348</td>\n",
       "      <td>-0.879915</td>\n",
       "      <td>-0.729435</td>\n",
       "      <td>0.001313</td>\n",
       "      <td>-1.554510</td>\n",
       "      <td>0</td>\n",
       "    </tr>\n",
       "  </tbody>\n",
       "</table>\n",
       "</div>"
      ],
      "text/plain": [
       "   UDI  Type  Air.temperature  Process.temperature  Rotational.speed  \\\n",
       "0    1     2        -0.952342            -0.947313          0.068182   \n",
       "1    2     1        -0.902348            -0.879915         -0.729435   \n",
       "2    3     1        -0.952342            -1.014710         -0.227438   \n",
       "3    4     1        -0.902348            -0.947313         -0.589992   \n",
       "4    5     1        -0.902348            -0.879915         -0.729435   \n",
       "\n",
       "     Torque  Tool.wear  Machine.failure  \n",
       "0  0.282186  -1.695899                0  \n",
       "1  0.633276  -1.648769                0  \n",
       "2  0.944242  -1.617349                0  \n",
       "3 -0.048843  -1.585930                0  \n",
       "4  0.001313  -1.554510                0  "
      ]
     },
     "execution_count": 153,
     "metadata": {},
     "output_type": "execute_result"
    }
   ],
   "source": [
    "df = pd.read_csv('clean_data_scaled.csv')\n",
    "df.head()"
   ]
  },
  {
   "cell_type": "markdown",
   "metadata": {},
   "source": [
    "### Specify features and labels"
   ]
  },
  {
   "cell_type": "code",
   "execution_count": 154,
   "metadata": {},
   "outputs": [],
   "source": [
    "feature_names = df.columns[1:7]"
   ]
  },
  {
   "cell_type": "markdown",
   "metadata": {},
   "source": [
    "### Let's look at the counts of each machine type for failure and no failure"
   ]
  },
  {
   "cell_type": "code",
   "execution_count": 155,
   "metadata": {},
   "outputs": [
    {
     "name": "stdout",
     "output_type": "stream",
     "text": [
      "Type                1     2    3\n",
      "Machine.failure                 \n",
      "0                5765  2914  982\n",
      "1                 235    83   21\n"
     ]
    },
    {
     "data": {
      "text/plain": [
       "<matplotlib.legend.Legend at 0x7fa6669c1358>"
      ]
     },
     "execution_count": 155,
     "metadata": {},
     "output_type": "execute_result"
    },
    {
     "data": {
      "image/png": "[encoded data removed]",
      "text/plain": [
       "<Figure size 360x216 with 1 Axes>"
      ]
     },
     "metadata": {
      "needs_background": "light"
     },
     "output_type": "display_data"
    }
   ],
   "source": [
    "failure_by_type = (df[['Type', 'Machine.failure']].copy())#.groupby(['Machine.failure','Type'])\n",
    "failure_by_typep = failure_by_type.pivot_table(index='Machine.failure', columns='Type', values='Type', aggfunc='size')\n",
    "print(failure_by_typep)\n",
    "ax0 = failure_by_typep.plot(kind='bar', figsize=(5, 3), rot=0)\n",
    "ax0.legend(['1-Low', '2-Medium', '3-High'])"
   ]
  },
  {
   "cell_type": "markdown",
   "metadata": {},
   "source": [
    "### Let's look at the proportion of machine failures by type"
   ]
  },
  {
   "cell_type": "code",
   "execution_count": 156,
   "metadata": {},
   "outputs": [
    {
     "data": {
      "image/png": "[encoded data removed]",
      "text/plain": [
       "<Figure size 720x720 with 1 Axes>"
      ]
     },
     "metadata": {
      "needs_background": "light"
     },
     "output_type": "display_data"
    }
   ],
   "source": [
    "x, y, hue = 'Machine.failure', \"proportion\",'Type'\n",
    "hue_order = ['1-Low', '2-Medium', '3-High']\n",
    "\n",
    "bp = (failure_by_type[x]\n",
    "    .groupby(df[hue])\n",
    "    .value_counts(normalize=True)\n",
    "    .rename(y)\n",
    "    .reset_index()\n",
    "    .pipe((sns.barplot, \"data\"), x=x, y=y, hue=hue))\n",
    "\n",
    "legend_labels, _= bp.get_legend_handles_labels()\n",
    "bp.legend(legend_labels, ['1-Low', '2-Medium', '3-High'], title='Type')\n",
    "bp.set(title='Proportion of Machine Failures by Type')\n",
    "plt.show()"
   ]
  },
  {
   "cell_type": "markdown",
   "metadata": {},
   "source": [
    "Machine parts of `Type 1 - Low quality` had the highest proportion of machine failures, while `ype 3 - High quality` had the lowest proportion of machine failures."
   ]
  },
  {
   "cell_type": "markdown",
   "metadata": {},
   "source": [
    "### Let's look at the distribution of the measurement features."
   ]
  },
  {
   "cell_type": "code",
   "execution_count": 157,
   "metadata": {},
   "outputs": [],
   "source": [
    "\n",
    "# fig, axs = plt.subplots(nrows=len(feature_names), ncols=1, sharex=True)\n",
    "# fig.suptitle('Distribution of each feature')\n",
    "# # for i, (title, y) in enumerate(zip(feature_names, df[2:7].groupby('Machine.failure'))):\n",
    "        \n",
    "# #     # density plot for the measurement features\n",
    "# #     ax[i].plot.kde(y, type='density', legend=True)\n",
    "# #     ax[i].set_title(title)\n",
    "# #     ax[i].set_ylabel('Sampling Distribution')\n",
    "# for (failure, subdf), ax in zip(df[2:8].groupby('Machine.failure'), axs):\n",
    "#     ax.set_title(f'{}')"
   ]
  },
  {
   "cell_type": "markdown",
   "metadata": {},
   "source": [
    "### Train a kNN classifier"
   ]
  },
  {
   "cell_type": "code",
   "execution_count": 158,
   "metadata": {},
   "outputs": [],
   "source": [
    "y = df['Machine.failure']\n",
    "X = df.iloc[:,1:7]\n",
    "X_train, X_test, y_train, y_test = train_test_split(X, y, random_state=0, shuffle=True)\n",
    "knn = KNeighborsClassifier(n_neighbors=5)"
   ]
  },
  {
   "cell_type": "markdown",
   "metadata": {},
   "source": [
    "### Use GridSearchCV to Find a good number of neighbors"
   ]
  },
  {
   "cell_type": "code",
   "execution_count": 159,
   "metadata": {},
   "outputs": [
    {
     "name": "stdout",
     "output_type": "stream",
     "text": [
      "{'n_neighbors': 11}\n"
     ]
    },
    {
     "data": {
      "image/png": "[encoded data removed]",
      "text/plain": [
       "<Figure size 720x360 with 1 Axes>"
      ]
     },
     "metadata": {
      "needs_background": "light"
     },
     "output_type": "display_data"
    }
   ],
   "source": [
    "k_range = list(range(1, 21))\n",
    "# create a parameter grid/dict: map the parameter names to the values that should be searched\n",
    "param_grid = dict(n_neighbors=k_range)\n",
    "# instantiate the grid\n",
    "grid = GridSearchCV(knn, param_grid, cv=10, scoring='accuracy')\n",
    "grid.fit(X, y)\n",
    "# view the complete results (list of named tuples)\n",
    "grid_mean_scores = grid.cv_results_[\"mean_test_score\"]\n",
    "plt.figure(figsize=(10, 5))\n",
    "plt.title('')\n",
    "plt.plot(k_range, grid_mean_scores)\n",
    "print(grid.best_params_)\n",
    "k = grid.best_params_['n_neighbors']"
   ]
  },
  {
   "cell_type": "code",
   "execution_count": 160,
   "metadata": {},
   "outputs": [
    {
     "data": {
      "text/plain": [
       "KNeighborsClassifier(n_neighbors=11)"
      ]
     },
     "execution_count": 160,
     "metadata": {},
     "output_type": "execute_result"
    }
   ],
   "source": [
    "knn = KNeighborsClassifier(n_neighbors=k)\n",
    "knn.fit(X_train, y_train.values.ravel())"
   ]
  },
  {
   "cell_type": "markdown",
   "metadata": {},
   "source": [
    "### Evaluate kNN model"
   ]
  },
  {
   "cell_type": "code",
   "execution_count": 161,
   "metadata": {},
   "outputs": [],
   "source": [
    "y_pred_knn = knn.predict(X_test)"
   ]
  },
  {
   "cell_type": "code",
   "execution_count": 163,
   "metadata": {},
   "outputs": [
    {
     "name": "stdout",
     "output_type": "stream",
     "text": [
      "[[2408    4]\n",
      " [  71   17]]\n"
     ]
    },
    {
     "data": {
      "image/png": "[encoded data removed]",
      "text/plain": [
       "<Figure size 720x720 with 1 Axes>"
      ]
     },
     "metadata": {
      "needs_background": "light"
     },
     "output_type": "display_data"
    }
   ],
   "source": [
    "disp_knn = plot_confusion_matrix(knn, X_test, y_test, colorbar=False)\n",
    "\n",
    "plt.title(\"Confusion Matrix for knn (n_neighbors=11)\")\n",
    "\n",
    "print(disp_knn.confusion_matrix)"
   ]
  },
  {
   "cell_type": "markdown",
   "metadata": {},
   "source": [
    "## Performance Metrics"
   ]
  },
  {
   "cell_type": "code",
   "execution_count": 164,
   "metadata": {},
   "outputs": [
    {
     "name": "stdout",
     "output_type": "stream",
     "text": [
      "              precision    recall  f1-score   support\n",
      "\n",
      "           0       0.97      1.00      0.98      2412\n",
      "           1       0.81      0.19      0.31        88\n",
      "\n",
      "    accuracy                           0.97      2500\n",
      "   macro avg       0.89      0.60      0.65      2500\n",
      "weighted avg       0.97      0.97      0.96      2500\n",
      "\n",
      "kNN Model accuracy with Cross Validation:  0.9578\n"
     ]
    }
   ],
   "source": [
    "print(classification_report(y_test, y_pred_knn))\n",
    "scores = cross_val_score(knn, X, y, cv =5)\n",
    "print('kNN Model accuracy with Cross Validation: ',np.mean(scores))"
   ]
  }
 ],
 "metadata": {
  "kernelspec": {
   "display_name": "Python 3",
   "language": "python",
   "name": "python3"
  },
  "language_info": {
   "codemirror_mode": {
    "name": "ipython",
    "version": 3
   },
   "file_extension": ".py",
   "mimetype": "text/x-python",
   "name": "python",
   "nbconvert_exporter": "python",
   "pygments_lexer": "ipython3",
   "version": "3.6.9"
  }
 },
 "nbformat": 4,
 "nbformat_minor": 4
}
